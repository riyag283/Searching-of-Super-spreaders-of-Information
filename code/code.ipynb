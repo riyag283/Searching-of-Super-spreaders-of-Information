{
 "cells": [
  {
   "cell_type": "code",
   "execution_count": null,
   "metadata": {},
   "outputs": [],
   "source": [
    "file = 'C:/Users/Riya/Desktop/RHEA/6th sem/SNA/Project SNA/twitter.csv'\n",
    "import math\n",
    "import random"
   ]
  },
  {
   "cell_type": "code",
   "execution_count": null,
   "metadata": {},
   "outputs": [],
   "source": [
    "import pandas as pd\n",
    "df = pd.read_csv(file)\n",
    "edge = []\n",
    "for i in range(len(df)):\n",
    "    tup =(df.iat[i,0],df.iat[i,1])\n",
    "    if df.iat[i,0]==df.iat[i,1]:\n",
    "        continue\n",
    "    edge.append(tup)\n",
    "n = df.values.max()"
   ]
  },
  {
   "cell_type": "code",
   "execution_count": null,
   "metadata": {},
   "outputs": [],
   "source": [
    "len(edge)"
   ]
  },
  {
   "cell_type": "code",
   "execution_count": null,
   "metadata": {},
   "outputs": [],
   "source": [
    "import networkx as nx\n",
    "import matplotlib.pyplot as plt\n",
    "G = nx.DiGraph()\n",
    "G.add_edges_from(edge)"
   ]
  },
  {
   "cell_type": "code",
   "execution_count": null,
   "metadata": {},
   "outputs": [],
   "source": [
    "ksval = nx.core_number(G)\n",
    "dictdeg = {}\n",
    "dictks = {}\n",
    "for each in G.nodes():\n",
    "    dictdeg[each] = G.degree(each)\n",
    "    dictks[each] = ksval[each]"
   ]
  },
  {
   "cell_type": "code",
   "execution_count": null,
   "metadata": {},
   "outputs": [],
   "source": [
    "pr = nx.pagerank(G)"
   ]
  },
  {
   "cell_type": "code",
   "execution_count": null,
   "metadata": {},
   "outputs": [],
   "source": [
    "import pandas as pd\n",
    "df = pd.DataFrame(columns = ['node','ks','kdeg','pr'])"
   ]
  },
  {
   "cell_type": "code",
   "execution_count": null,
   "metadata": {},
   "outputs": [],
   "source": [
    "nodes = []\n",
    "ks = []\n",
    "kdeg = []\n",
    "pr1 = []\n",
    "pr2 = []\n",
    "for i in dictks:\n",
    "    nodes.append(i)\n",
    "    ks.append(dictks[i])\n",
    "    kdeg.append(dictdeg[i])\n",
    "    pr1.append(round(pr[i]*10000,2)*100)"
   ]
  },
  {
   "cell_type": "code",
   "execution_count": null,
   "metadata": {},
   "outputs": [],
   "source": [
    "df['node'] = nodes\n",
    "df['ks'] = ks\n",
    "df['kdeg'] = kdeg\n",
    "df['pr'] = pr1"
   ]
  },
  {
   "cell_type": "code",
   "execution_count": null,
   "metadata": {},
   "outputs": [],
   "source": [
    "m = []\n",
    "for i in range(len(df)):\n",
    "    d = nx.bfs_tree(G, df['node'][i], reverse=False, depth_limit=5)\n",
    "    m.append(len(d))"
   ]
  },
  {
   "cell_type": "code",
   "execution_count": null,
   "metadata": {},
   "outputs": [],
   "source": [
    "df['m'] = m"
   ]
  },
  {
   "cell_type": "code",
   "execution_count": null,
   "metadata": {},
   "outputs": [],
   "source": [
    "df.to_csv('influence.csv')"
   ]
  },
  {
   "cell_type": "code",
   "execution_count": null,
   "metadata": {},
   "outputs": [],
   "source": [
    "max(df['ks'])"
   ]
  },
  {
   "cell_type": "code",
   "execution_count": null,
   "metadata": {},
   "outputs": [],
   "source": [
    "import pandas as pd\n",
    "df = pd.read_csv('worktwitter.csv')"
   ]
  },
  {
   "cell_type": "code",
   "execution_count": null,
   "metadata": {},
   "outputs": [],
   "source": [
    "def unique(list1): \n",
    "      \n",
    "    # insert the list to the set \n",
    "    list_set = set(list1) \n",
    "    # convert the set to the list \n",
    "    unique_list = (list(list_set)) \n",
    "    return len(unique_list) "
   ]
  },
  {
   "cell_type": "code",
   "execution_count": null,
   "metadata": {},
   "outputs": [],
   "source": [
    "color_map = []\n",
    "k = max(df['ks'])\n",
    "for node in G:\n",
    "    if ksval[node] == k:\n",
    "        color_map.append('blue')\n",
    "    else: \n",
    "        color_map.append('green')      \n",
    "nx.draw(G, node_color=color_map, with_labels=True)\n",
    "plt.show()"
   ]
  },
  {
   "cell_type": "code",
   "execution_count": null,
   "metadata": {},
   "outputs": [],
   "source": [
    "import seaborn as sns"
   ]
  },
  {
   "cell_type": "code",
   "execution_count": null,
   "metadata": {},
   "outputs": [],
   "source": [
    "X = [0,0,0,1,1,1]\n",
    "Y = [1,2,3,1,2,3]\n",
    "value = [0.4,-1,3,0,-0.2,2]"
   ]
  },
  {
   "cell_type": "code",
   "execution_count": null,
   "metadata": {
    "scrolled": true
   },
   "outputs": [],
   "source": [
    "r = pd.DataFrame()\n",
    "r['Y'] = Y\n",
    "r['X'] = X\n",
    "r['value'] = value\n",
    "table = r.pivot('Y','X','value')\n",
    "ax = sns.heatmap(table)\n",
    "ax.invert_yaxis()\n",
    "print(table)\n",
    "plt.show()"
   ]
  },
  {
   "cell_type": "code",
   "execution_count": null,
   "metadata": {},
   "outputs": [],
   "source": [
    "k = []\n",
    "dict1 = {}\n",
    "dict2 = {}\n",
    "for i in range(len(df)):\n",
    "    dict1[df['ks'][i]] = k\n",
    "    dict2[df['kdeg'][i]] = k\n",
    "for i in range(len(df)):\n",
    "    dict1[df['ks'][i]].append(df['node'][i])\n",
    "    dict2[df['kdeg'][i]].append(df['node'][i])"
   ]
  },
  {
   "cell_type": "code",
   "execution_count": null,
   "metadata": {},
   "outputs": [],
   "source": [
    "k = []\n",
    "dict3 = {}\n",
    "for i in range(len(df)):\n",
    "    dict3[df['node'][i]] = k\n",
    "for i in range(len(df)):\n",
    "    dict3[df['node'][i]].append(i)"
   ]
  },
  {
   "cell_type": "code",
   "execution_count": null,
   "metadata": {},
   "outputs": [],
   "source": [
    "def common(m,n):\n",
    "    mset = set(m)\n",
    "    nset = set(n)\n",
    "    return (mset & nset)   "
   ]
  },
  {
   "cell_type": "code",
   "execution_count": null,
   "metadata": {},
   "outputs": [],
   "source": [
    "a = []\n",
    "b = []\n",
    "c = []\n",
    "for i in dict1:\n",
    "    for j in dict2:\n",
    "        a.append(i)\n",
    "        b.append(j)\n",
    "        cmn = common(dict1[i],dict2[j])\n",
    "        c.append(cmn)"
   ]
  },
  {
   "cell_type": "code",
   "execution_count": null,
   "metadata": {},
   "outputs": [],
   "source": [
    "value = []\n",
    "for each in c:\n",
    "    n = len(each)\n",
    "    sum1 = 0\n",
    "    if n > 15:\n",
    "        for node in each:\n",
    "            i = dict3[node]\n",
    "            sum1 += df['m'][i]\n",
    "        sum1 = sum1/N\n",
    "    value.append(sum1)"
   ]
  },
  {
   "cell_type": "code",
   "execution_count": null,
   "metadata": {},
   "outputs": [],
   "source": [
    "mydf = pd.DataFrame()\n",
    "mydf['Y'] = b\n",
    "mydf['X'] = a\n",
    "mydf['value'] = value\n",
    "table = r.pivot('Y','X','value')\n",
    "ax = sns.heatmap(table)\n",
    "ax.invert_yaxis()\n",
    "print(table)\n",
    "plt.show()"
   ]
  },
  {
   "cell_type": "code",
   "execution_count": null,
   "metadata": {},
   "outputs": [],
   "source": [
    "mydf.to_csv('myinfluence.csv')"
   ]
  },
  {
   "cell_type": "code",
   "execution_count": null,
   "metadata": {},
   "outputs": [],
   "source": [
    "len(b)"
   ]
  },
  {
   "cell_type": "code",
   "execution_count": null,
   "metadata": {
    "scrolled": true
   },
   "outputs": [],
   "source": [
    "for i in dict1:\n",
    "    print(i)"
   ]
  },
  {
   "cell_type": "code",
   "execution_count": null,
   "metadata": {},
   "outputs": [],
   "source": [
    "f = [2,4,2,5,6]\n",
    "u = [1,9,3,8,7]\n",
    "o = common(f,u)"
   ]
  },
  {
   "cell_type": "code",
   "execution_count": null,
   "metadata": {},
   "outputs": [],
   "source": [
    "c"
   ]
  },
  {
   "cell_type": "code",
   "execution_count": null,
   "metadata": {},
   "outputs": [],
   "source": [
    "o"
   ]
  },
  {
   "cell_type": "code",
   "execution_count": null,
   "metadata": {},
   "outputs": [],
   "source": [
    "for i in o:\n",
    "    print(i)"
   ]
  },
  {
   "cell_type": "code",
   "execution_count": null,
   "metadata": {},
   "outputs": [],
   "source": [
    "min(m)"
   ]
  },
  {
   "cell_type": "code",
   "execution_count": null,
   "metadata": {},
   "outputs": [],
   "source": []
  }
 ],
 "metadata": {
  "kernelspec": {
   "display_name": "Python 3",
   "language": "python",
   "name": "python3"
  },
  "language_info": {
   "codemirror_mode": {
    "name": "ipython",
    "version": 3
   },
   "file_extension": ".py",
   "mimetype": "text/x-python",
   "name": "python",
   "nbconvert_exporter": "python",
   "pygments_lexer": "ipython3",
   "version": "3.7.3"
  }
 },
 "nbformat": 4,
 "nbformat_minor": 4
}
