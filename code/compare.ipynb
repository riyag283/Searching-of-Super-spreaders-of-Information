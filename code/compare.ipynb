{
 "cells": [
  {
   "cell_type": "code",
   "execution_count": 111,
   "metadata": {},
   "outputs": [],
   "source": [
    "file = 'C:/Users/Riya/Desktop/RHEA/6th sem/SNA/Project SNA/twitter.csv'\n",
    "import math\n",
    "import random"
   ]
  },
  {
   "cell_type": "code",
   "execution_count": 112,
   "metadata": {},
   "outputs": [],
   "source": [
    "import pandas as pd\n",
    "df = pd.read_csv(file)\n",
    "edge = []\n",
    "for i in range(len(df)):\n",
    "    tup =(df.iat[i,0],df.iat[i,1])\n",
    "    if df.iat[i,0]==df.iat[i,1]:\n",
    "        continue\n",
    "    edge.append(tup)\n",
    "n = df.values.max()"
   ]
  },
  {
   "cell_type": "code",
   "execution_count": 113,
   "metadata": {},
   "outputs": [],
   "source": [
    "import networkx as nx\n",
    "import matplotlib.pyplot as plt\n",
    "G = nx.DiGraph()\n",
    "G.add_edges_from(edge)"
   ]
  },
  {
   "cell_type": "code",
   "execution_count": 114,
   "metadata": {},
   "outputs": [],
   "source": [
    "ksval = nx.core_number(G)\n",
    "dictdeg = {}\n",
    "dictks = {}\n",
    "for each in G.nodes():\n",
    "    dictdeg[each] = G.degree(each)\n",
    "    dictks[each] = ksval[each]"
   ]
  },
  {
   "cell_type": "code",
   "execution_count": 115,
   "metadata": {},
   "outputs": [],
   "source": [
    "pr = nx.pagerank(G)"
   ]
  },
  {
   "cell_type": "code",
   "execution_count": 116,
   "metadata": {},
   "outputs": [],
   "source": [
    "df = pd.DataFrame(columns = ['node','ks','kdeg','pr'])"
   ]
  },
  {
   "cell_type": "code",
   "execution_count": 117,
   "metadata": {},
   "outputs": [],
   "source": [
    "nodes = []\n",
    "ks = []\n",
    "kdeg = []\n",
    "pr1 = []\n",
    "pr2 = []\n",
    "for i in dictks:\n",
    "    nodes.append(i)\n",
    "    ks.append(dictks[i])\n",
    "    kdeg.append(dictdeg[i])\n",
    "    pr1.append(round(pr[i]*10000,2)*100)"
   ]
  },
  {
   "cell_type": "code",
   "execution_count": 157,
   "metadata": {},
   "outputs": [],
   "source": [
    "df['node'] = nodes\n",
    "df['ks'] = ks\n",
    "df['kdeg'] = kdeg\n",
    "df['pr'] = pr1"
   ]
  },
  {
   "cell_type": "code",
   "execution_count": 119,
   "metadata": {
    "scrolled": true
   },
   "outputs": [],
   "source": [
    "#original = df"
   ]
  },
  {
   "cell_type": "code",
   "execution_count": 197,
   "metadata": {},
   "outputs": [],
   "source": [
    "df = original"
   ]
  },
  {
   "cell_type": "code",
   "execution_count": 67,
   "metadata": {},
   "outputs": [],
   "source": [
    "#df = df.sort_values(by=['kdeg'], ascending=False)"
   ]
  },
  {
   "cell_type": "code",
   "execution_count": 68,
   "metadata": {},
   "outputs": [],
   "source": [
    "#df = df.sort_values(by=['kdeg'], ascending=False)\n",
    "#df = df.reset_index(drop=True)"
   ]
  },
  {
   "cell_type": "code",
   "execution_count": 120,
   "metadata": {},
   "outputs": [],
   "source": [
    "#df['kdeg'] = df['kdeg']/20"
   ]
  },
  {
   "cell_type": "code",
   "execution_count": 228,
   "metadata": {},
   "outputs": [],
   "source": [
    "import pandas as pd"
   ]
  },
  {
   "cell_type": "code",
   "execution_count": 230,
   "metadata": {},
   "outputs": [],
   "source": [
    "df = pd.read_csv('mynodes.csv')"
   ]
  },
  {
   "cell_type": "code",
   "execution_count": 231,
   "metadata": {},
   "outputs": [],
   "source": [
    "m = max(df['ksum'])"
   ]
  },
  {
   "cell_type": "code",
   "execution_count": 232,
   "metadata": {},
   "outputs": [
    {
     "data": {
      "text/plain": [
       "149729"
      ]
     },
     "execution_count": 232,
     "metadata": {},
     "output_type": "execute_result"
    }
   ],
   "source": [
    "m"
   ]
  },
  {
   "cell_type": "code",
   "execution_count": 123,
   "metadata": {},
   "outputs": [],
   "source": [
    "#div = m//10"
   ]
  },
  {
   "cell_type": "code",
   "execution_count": 233,
   "metadata": {},
   "outputs": [],
   "source": [
    "bin1 = []\n",
    "bin2 = []\n",
    "bin3 = []\n",
    "bin4 = []\n",
    "bin5 = []"
   ]
  },
  {
   "cell_type": "code",
   "execution_count": 234,
   "metadata": {},
   "outputs": [],
   "source": [
    "def unique(list1): \n",
    "      \n",
    "    # insert the list to the set \n",
    "    list_set = set(list1) \n",
    "    # convert the set to the list \n",
    "    unique_list = (list(list_set)) \n",
    "    return unique_list "
   ]
  },
  {
   "cell_type": "code",
   "execution_count": 254,
   "metadata": {},
   "outputs": [],
   "source": [
    "list1 = unique(df['k2sum'])"
   ]
  },
  {
   "cell_type": "code",
   "execution_count": 255,
   "metadata": {},
   "outputs": [],
   "source": [
    "l1 = []\n",
    "l2 = []\n",
    "l3 = []\n",
    "l4 = []\n",
    "l5 = []\n",
    "for i in range(int(0.5*len(list1)),int(0.6*len(list1))):\n",
    "    l1.append(i)\n",
    "for i in range(int(0.6*len(list1)),int(0.7*len(list1))):\n",
    "    l2.append(i)\n",
    "for i in range(int(0.7*len(list1)),int(0.8*len(list1))):\n",
    "    l3.append(i)\n",
    "for i in range(int(0.8*len(list1)),int(0.9*len(list1))):\n",
    "    l4.append(i)\n",
    "for i in range(int(0.9*len(list1)),len(list1)):\n",
    "    l5.append(i)"
   ]
  },
  {
   "cell_type": "code",
   "execution_count": 256,
   "metadata": {},
   "outputs": [
    {
     "data": {
      "text/plain": [
       "1510"
      ]
     },
     "execution_count": 256,
     "metadata": {},
     "output_type": "execute_result"
    }
   ],
   "source": [
    "len(bin1)"
   ]
  },
  {
   "cell_type": "code",
   "execution_count": 257,
   "metadata": {},
   "outputs": [],
   "source": [
    "for i in range(len(df)):\n",
    "    ks = df['k2sum'][i]\n",
    "    if ks in l1:\n",
    "        bin1.append(df['node'][i])\n",
    "    elif ks in l2:\n",
    "        bin2.append(df['node'][i])\n",
    "    elif ks in l3:\n",
    "        bin3.append(df['node'][i])\n",
    "    elif ks in l4:\n",
    "        bin4.append(df['node'][i])\n",
    "    elif ks in l5:\n",
    "        bin5.append(df['node'][i])"
   ]
  },
  {
   "cell_type": "code",
   "execution_count": 216,
   "metadata": {},
   "outputs": [],
   "source": [
    "M = 0\n",
    "for node in bin1:\n",
    "    M += len(nx.bfs_tree(G, node, reverse=False, depth_limit=5))\n",
    "M1 = M/len(bin1)\n",
    "M = 0\n",
    "for node in bin2:\n",
    "    M += len(nx.bfs_tree(G, node, reverse=False, depth_limit=5))\n",
    "M2 = M/len(bin2)\n",
    "M = 0\n",
    "for node in bin3:\n",
    "    M += len(nx.bfs_tree(G, node, reverse=False, depth_limit=5))\n",
    "M3 = M/len(bin3)\n",
    "M = 0\n",
    "for node in bin4:\n",
    "    M += len(nx.bfs_tree(G, node, reverse=False, depth_limit=5))\n",
    "M4 = M/len(bin4)\n",
    "M = 0\n",
    "for node in bin5:\n",
    "    M += len(nx.bfs_tree(G, node, reverse=False, depth_limit=5))\n",
    "M5 = M/len(bin5)"
   ]
  },
  {
   "cell_type": "code",
   "execution_count": 258,
   "metadata": {},
   "outputs": [],
   "source": [
    "M = 0\n",
    "rbin1 = random.sample(bin1, 50)\n",
    "for node in rbin1:\n",
    "    M += len(nx.bfs_tree(G, node, reverse=False, depth_limit=5))\n",
    "M1 = M/50"
   ]
  },
  {
   "cell_type": "code",
   "execution_count": 259,
   "metadata": {},
   "outputs": [],
   "source": [
    "M = 0\n",
    "rbin2 = random.sample(bin2, 50)\n",
    "for node in rbin2:\n",
    "    M += len(nx.bfs_tree(G, node, reverse=False, depth_limit=5))\n",
    "M2 = M/50"
   ]
  },
  {
   "cell_type": "code",
   "execution_count": 264,
   "metadata": {},
   "outputs": [],
   "source": [
    "M = 0\n",
    "rbin3 = random.sample(bin3,50)\n",
    "for node in rbin3:\n",
    "    M += len(nx.bfs_tree(G, node, reverse=False, depth_limit=5))\n",
    "M3 = M/50"
   ]
  },
  {
   "cell_type": "code",
   "execution_count": 265,
   "metadata": {},
   "outputs": [],
   "source": [
    "M = 0\n",
    "rbin4 = random.sample(bin4,50)\n",
    "for node in rbin4:\n",
    "    M += len(nx.bfs_tree(G, node, reverse=False, depth_limit=5))\n",
    "M4 = M/50"
   ]
  },
  {
   "cell_type": "code",
   "execution_count": 270,
   "metadata": {},
   "outputs": [],
   "source": [
    "M = 0\n",
    "rbin5 = random.sample(bin5,50)\n",
    "for node in rbin5:\n",
    "    M += len(nx.bfs_tree(G, node, reverse=False, depth_limit=5))\n",
    "M5 = M/50"
   ]
  },
  {
   "cell_type": "code",
   "execution_count": 271,
   "metadata": {},
   "outputs": [
    {
     "data": {
      "text/plain": [
       "(27804.36, 28554.16, 28497.5, 33105.04, 33963.56)"
      ]
     },
     "execution_count": 271,
     "metadata": {},
     "output_type": "execute_result"
    }
   ],
   "source": [
    "M1, M2, M3, M4, M5"
   ]
  },
  {
   "cell_type": "code",
   "execution_count": 55,
   "metadata": {},
   "outputs": [],
   "source": [
    "#ksM = M1, M2, M3, M4, M5"
   ]
  },
  {
   "cell_type": "code",
   "execution_count": 195,
   "metadata": {},
   "outputs": [],
   "source": [
    "#kdm = M1, M2, M3, M4, M5"
   ]
  },
  {
   "cell_type": "code",
   "execution_count": 218,
   "metadata": {},
   "outputs": [],
   "source": [
    "#prM = M1, M2, M3, M4, M5"
   ]
  },
  {
   "cell_type": "code",
   "execution_count": 252,
   "metadata": {},
   "outputs": [],
   "source": [
    "#kum = M1, M2, M3, M4, M5"
   ]
  },
  {
   "cell_type": "code",
   "execution_count": 272,
   "metadata": {},
   "outputs": [],
   "source": [
    "#k2um = M1, M2, M3, M4, M5"
   ]
  },
  {
   "cell_type": "code",
   "execution_count": 181,
   "metadata": {},
   "outputs": [
    {
     "data": {
      "text/plain": [
       "(27391.76, 28528.78, 29916.38, 33342.84, 35410.52)"
      ]
     },
     "execution_count": 181,
     "metadata": {},
     "output_type": "execute_result"
    }
   ],
   "source": [
    "ksM"
   ]
  },
  {
   "cell_type": "code",
   "execution_count": 196,
   "metadata": {},
   "outputs": [
    {
     "data": {
      "text/plain": [
       "(18687.12, 21308.92, 22831.56, 31474.0, 31796.8)"
      ]
     },
     "execution_count": 196,
     "metadata": {},
     "output_type": "execute_result"
    }
   ],
   "source": [
    "kdm"
   ]
  },
  {
   "cell_type": "code",
   "execution_count": 219,
   "metadata": {},
   "outputs": [
    {
     "data": {
      "text/plain": [
       "(8747.918032786885, 19940.891304347828, 22391.585365853658, 28683.16, 26571.0)"
      ]
     },
     "execution_count": 219,
     "metadata": {},
     "output_type": "execute_result"
    }
   ],
   "source": [
    "prM"
   ]
  },
  {
   "cell_type": "code",
   "execution_count": 253,
   "metadata": {},
   "outputs": [
    {
     "data": {
      "text/plain": [
       "(29520.76, 28154.02, 30378.04, 30540.46, 34284.58)"
      ]
     },
     "execution_count": 253,
     "metadata": {},
     "output_type": "execute_result"
    }
   ],
   "source": [
    "kum"
   ]
  },
  {
   "cell_type": "code",
   "execution_count": 273,
   "metadata": {},
   "outputs": [
    {
     "data": {
      "text/plain": [
       "(27804.36, 28554.16, 28497.5, 33105.04, 33963.56)"
      ]
     },
     "execution_count": 273,
     "metadata": {},
     "output_type": "execute_result"
    }
   ],
   "source": [
    "k2um"
   ]
  },
  {
   "cell_type": "code",
   "execution_count": 220,
   "metadata": {},
   "outputs": [],
   "source": [
    "pdf = pd.DataFrame()\n",
    "pdf['ks'] = ksM\n",
    "pdf['kin'] = kdm\n",
    "pdf['prM'] = prM"
   ]
  },
  {
   "cell_type": "code",
   "execution_count": 221,
   "metadata": {},
   "outputs": [
    {
     "data": {
      "image/png": "[encoded data removed]",
      "text/plain": [
       "<Figure size 432x288 with 1 Axes>"
      ]
     },
     "metadata": {
      "needs_background": "light"
     },
     "output_type": "display_data"
    }
   ],
   "source": [
    "pdf.plot(y=[\"ks\", \"kin\", \"prM\"])\n",
    "plt.show()"
   ]
  },
  {
   "cell_type": "code",
   "execution_count": 222,
   "metadata": {},
   "outputs": [],
   "source": [
    "ndf = pdf.reindex(index=pdf.index[::-1])"
   ]
  },
  {
   "cell_type": "code",
   "execution_count": 225,
   "metadata": {},
   "outputs": [
    {
     "data": {
      "text/html": [
       "<div>\n",
       "<style scoped>\n",
       "    .dataframe tbody tr th:only-of-type {\n",
       "        vertical-align: middle;\n",
       "    }\n",
       "\n",
       "    .dataframe tbody tr th {\n",
       "        vertical-align: top;\n",
       "    }\n",
       "\n",
       "    .dataframe thead th {\n",
       "        text-align: right;\n",
       "    }\n",
       "</style>\n",
       "<table border=\"1\" class=\"dataframe\">\n",
       "  <thead>\n",
       "    <tr style=\"text-align: right;\">\n",
       "      <th></th>\n",
       "      <th>ks</th>\n",
       "      <th>kin</th>\n",
       "      <th>prM</th>\n",
       "    </tr>\n",
       "  </thead>\n",
       "  <tbody>\n",
       "    <tr>\n",
       "      <th>0</th>\n",
       "      <td>35410.52</td>\n",
       "      <td>31796.80</td>\n",
       "      <td>26571.000000</td>\n",
       "    </tr>\n",
       "    <tr>\n",
       "      <th>1</th>\n",
       "      <td>33342.84</td>\n",
       "      <td>31474.00</td>\n",
       "      <td>28683.160000</td>\n",
       "    </tr>\n",
       "    <tr>\n",
       "      <th>2</th>\n",
       "      <td>29916.38</td>\n",
       "      <td>22831.56</td>\n",
       "      <td>22391.585366</td>\n",
       "    </tr>\n",
       "    <tr>\n",
       "      <th>3</th>\n",
       "      <td>28528.78</td>\n",
       "      <td>21308.92</td>\n",
       "      <td>19940.891304</td>\n",
       "    </tr>\n",
       "    <tr>\n",
       "      <th>4</th>\n",
       "      <td>27391.76</td>\n",
       "      <td>18687.12</td>\n",
       "      <td>8747.918033</td>\n",
       "    </tr>\n",
       "  </tbody>\n",
       "</table>\n",
       "</div>"
      ],
      "text/plain": [
       "         ks       kin           prM\n",
       "0  35410.52  31796.80  26571.000000\n",
       "1  33342.84  31474.00  28683.160000\n",
       "2  29916.38  22831.56  22391.585366\n",
       "3  28528.78  21308.92  19940.891304\n",
       "4  27391.76  18687.12   8747.918033"
      ]
     },
     "execution_count": 225,
     "metadata": {},
     "output_type": "execute_result"
    }
   ],
   "source": [
    "ndf = ndf.reset_index(drop=True)\n",
    "ndf"
   ]
  },
  {
   "cell_type": "code",
   "execution_count": 226,
   "metadata": {},
   "outputs": [
    {
     "data": {
      "image/png": "[encoded data removed]",
      "text/plain": [
       "<Figure size 432x288 with 1 Axes>"
      ]
     },
     "metadata": {
      "needs_background": "light"
     },
     "output_type": "display_data"
    }
   ],
   "source": [
    "ndf.plot(y=[\"ks\", \"kin\", \"prM\"])\n",
    "plt.show()"
   ]
  },
  {
   "cell_type": "code",
   "execution_count": 274,
   "metadata": {},
   "outputs": [],
   "source": [
    "pdf = pd.DataFrame()\n",
    "pdf['ks'] = ksM\n",
    "pdf['ksum'] = kum\n",
    "pdf['k2sum'] = k2um"
   ]
  },
  {
   "cell_type": "code",
   "execution_count": 275,
   "metadata": {},
   "outputs": [],
   "source": [
    "ndf = pdf.reindex(index=pdf.index[::-1])"
   ]
  },
  {
   "cell_type": "code",
   "execution_count": 276,
   "metadata": {},
   "outputs": [
    {
     "data": {
      "text/html": [
       "<div>\n",
       "<style scoped>\n",
       "    .dataframe tbody tr th:only-of-type {\n",
       "        vertical-align: middle;\n",
       "    }\n",
       "\n",
       "    .dataframe tbody tr th {\n",
       "        vertical-align: top;\n",
       "    }\n",
       "\n",
       "    .dataframe thead th {\n",
       "        text-align: right;\n",
       "    }\n",
       "</style>\n",
       "<table border=\"1\" class=\"dataframe\">\n",
       "  <thead>\n",
       "    <tr style=\"text-align: right;\">\n",
       "      <th></th>\n",
       "      <th>ks</th>\n",
       "      <th>ksum</th>\n",
       "      <th>k2sum</th>\n",
       "    </tr>\n",
       "  </thead>\n",
       "  <tbody>\n",
       "    <tr>\n",
       "      <th>0</th>\n",
       "      <td>35410.52</td>\n",
       "      <td>34284.58</td>\n",
       "      <td>33963.56</td>\n",
       "    </tr>\n",
       "    <tr>\n",
       "      <th>1</th>\n",
       "      <td>33342.84</td>\n",
       "      <td>30540.46</td>\n",
       "      <td>33105.04</td>\n",
       "    </tr>\n",
       "    <tr>\n",
       "      <th>2</th>\n",
       "      <td>29916.38</td>\n",
       "      <td>30378.04</td>\n",
       "      <td>28497.50</td>\n",
       "    </tr>\n",
       "    <tr>\n",
       "      <th>3</th>\n",
       "      <td>28528.78</td>\n",
       "      <td>28154.02</td>\n",
       "      <td>28554.16</td>\n",
       "    </tr>\n",
       "    <tr>\n",
       "      <th>4</th>\n",
       "      <td>27391.76</td>\n",
       "      <td>29520.76</td>\n",
       "      <td>27804.36</td>\n",
       "    </tr>\n",
       "  </tbody>\n",
       "</table>\n",
       "</div>"
      ],
      "text/plain": [
       "         ks      ksum     k2sum\n",
       "0  35410.52  34284.58  33963.56\n",
       "1  33342.84  30540.46  33105.04\n",
       "2  29916.38  30378.04  28497.50\n",
       "3  28528.78  28154.02  28554.16\n",
       "4  27391.76  29520.76  27804.36"
      ]
     },
     "execution_count": 276,
     "metadata": {},
     "output_type": "execute_result"
    }
   ],
   "source": [
    "ndf = ndf.reset_index(drop=True)\n",
    "ndf"
   ]
  },
  {
   "cell_type": "code",
   "execution_count": 277,
   "metadata": {},
   "outputs": [
    {
     "data": {
      "image/png": "[encoded data removed]",
      "text/plain": [
       "<Figure size 432x288 with 1 Axes>"
      ]
     },
     "metadata": {
      "needs_background": "light"
     },
     "output_type": "display_data"
    }
   ],
   "source": [
    "ndf.plot(y=[\"ks\", \"ksum\", \"k2sum\"])\n",
    "plt.show()"
   ]
  },
  {
   "cell_type": "code",
   "execution_count": null,
   "metadata": {},
   "outputs": [],
   "source": []
  }
 ],
 "metadata": {
  "kernelspec": {
   "display_name": "Python 3",
   "language": "python",
   "name": "python3"
  },
  "language_info": {
   "codemirror_mode": {
    "name": "ipython",
    "version": 3
   },
   "file_extension": ".py",
   "mimetype": "text/x-python",
   "name": "python",
   "nbconvert_exporter": "python",
   "pygments_lexer": "ipython3",
   "version": "3.7.3"
  }
 },
 "nbformat": 4,
 "nbformat_minor": 4
}
