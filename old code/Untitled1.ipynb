{
 "cells": [
  {
   "cell_type": "code",
   "execution_count": null,
   "metadata": {},
   "outputs": [],
   "source": [
    "import networkx as nx\n",
    "import numpy as np\n",
    "import random\n",
    "\n",
    "def add_edges(G, p):\n",
    "    for i in G.nodes():\n",
    "        for j in G.nodes():\n",
    "            if i!= j:\n",
    "                r = random.random()\n",
    "                if r<= p:\n",
    "                    G.add_edge(i,j)\n",
    "                else:\n",
    "                    continue\n",
    "    return G\n",
    "\n",
    "def get_nodes_sorted_by_RW(points):\n",
    "    points_array = np.array(points)\n",
    "    nodes_sorted_by_RW = np.argsort(-points_array)\n",
    "    return nodes_sorted_by_RW\n",
    "\n",
    "\n",
    "def random_walk(G):\n",
    "    nodes = list(G.nodes())\n",
    "    RW_points = [0 for i in range(G.number_of_nodes())]\n",
    "    r = random.choice(nodes)\n",
    "    #print(type(nodes), random.choice(nodes))\n",
    "    RW_points[r] += 1\n",
    "    out = list(G.out_edges(r))\n",
    "    # print(out,type(out))\n",
    "    c = 0\n",
    "    while(c != 100000):\n",
    "        if(len(out) == 0):\n",
    "            focus = random.choice(nodes)\n",
    "        else:\n",
    "            r1 = random.choice(out)\n",
    "            focus = r1[1]\n",
    "            RW_points[focus] += 1\n",
    "            out = list(G.out_edges(focus))\n",
    "            c +=1\n",
    "    return RW_points\n",
    "\n",
    "def main():\n",
    "    G = nx.DiGraph()\n",
    "    G.add_nodes_from([i for i in range(10)])\n",
    "    G = add_edges(G,0.3)\n",
    "    RW_points = random_walk(G)\n",
    "\n",
    "    nodes_sorted_by_RW = get_nodes_sorted_by_RW(RW_points)\n",
    "    print('nodes_sorted_by_random_walk', nodes_sorted_by_RW)\n",
    "\n",
    "    pr = nx.pagerank(G)\n",
    "    pr_sorted = sorted(pr.items(),key=lambda x:x[1],reverse=True)\n",
    "    for i in pr_sorted:\n",
    "        print(i[0],end = ' ')\n",
    "main()\n"
   ]
  },
  {
   "cell_type": "code",
   "execution_count": null,
   "metadata": {},
   "outputs": [],
   "source": []
  }
 ],
 "metadata": {
  "kernelspec": {
   "display_name": "Python 3",
   "language": "python",
   "name": "python3"
  },
  "language_info": {
   "codemirror_mode": {
    "name": "ipython",
    "version": 3
   },
   "file_extension": ".py",
   "mimetype": "text/x-python",
   "name": "python",
   "nbconvert_exporter": "python",
   "pygments_lexer": "ipython3",
   "version": "3.7.3"
  }
 },
 "nbformat": 4,
 "nbformat_minor": 4
}
