{
 "cells": [
  {
   "cell_type": "code",
   "execution_count": 1,
   "metadata": {},
   "outputs": [],
   "source": [
    "file = 'C:/Users/Riya/Desktop/RHEA/6th sem/SNA/Project SNA/data2.csv'"
   ]
  },
  {
   "cell_type": "code",
   "execution_count": 2,
   "metadata": {},
   "outputs": [],
   "source": [
    "import pandas as pd\n",
    "df = pd.read_csv(file)\n",
    "edge = []\n",
    "for i in range(len(df)):\n",
    "    tup =(df.iat[i,0],df.iat[i,1])\n",
    "    edge.append(tup)\n",
    "n = df.values.max()"
   ]
  },
  {
   "cell_type": "code",
   "execution_count": 3,
   "metadata": {},
   "outputs": [
    {
     "data": {
      "text/plain": [
       "103687"
      ]
     },
     "execution_count": 3,
     "metadata": {},
     "output_type": "execute_result"
    }
   ],
   "source": [
    "len(edge)"
   ]
  },
  {
   "cell_type": "code",
   "execution_count": 3,
   "metadata": {},
   "outputs": [],
   "source": [
    "import numpy as np"
   ]
  },
  {
   "cell_type": "code",
   "execution_count": 4,
   "metadata": {},
   "outputs": [],
   "source": [
    "import networkx as nx\n",
    "import matplotlib.pyplot as plt\n",
    "G = nx.DiGraph()\n",
    "G.add_edges_from(edge)"
   ]
  },
  {
   "cell_type": "code",
   "execution_count": 5,
   "metadata": {},
   "outputs": [],
   "source": [
    "def check_existence(G,d):\n",
    "    f = 0 # remains 0 if there is no node of degree <= d\n",
    "    for each in G.nodes():\n",
    "        if G.degree(each)<=d:\n",
    "            f = 1\n",
    "            break\n",
    "    return f"
   ]
  },
  {
   "cell_type": "code",
   "execution_count": 6,
   "metadata": {},
   "outputs": [],
   "source": [
    "def find(G,it):\n",
    "    set1 = []\n",
    "    for each in G.nodes():\n",
    "        if G.degree(each) <= it:\n",
    "            set1.append(each)\n",
    "    return set1"
   ]
  },
  {
   "cell_type": "code",
   "execution_count": 7,
   "metadata": {},
   "outputs": [],
   "source": [
    "H = G.copy()\n",
    "it = 1\n",
    "tmp = []\n",
    "buckets = []\n",
    "while(1):\n",
    "    flag = check_existence(H,it)\n",
    "    if flag==0:\n",
    "        it += 1\n",
    "        buckets.append(tmp)\n",
    "        tmp = []\n",
    "    if flag==1:\n",
    "        node_set = find(H,it)\n",
    "        for each in node_set:\n",
    "            H.remove_node(each)\n",
    "            tmp.append(each)\n",
    "    if H.number_of_nodes() == 0:\n",
    "        buckets.append(tmp)\n",
    "        k_core = tmp\n",
    "        break\n",
    "#print(buckets)"
   ]
  },
  {
   "cell_type": "code",
   "execution_count": 8,
   "metadata": {},
   "outputs": [],
   "source": [
    "col_names =  ['node name', 'kshell']\n",
    "data  = pd.DataFrame(columns = col_names)\n",
    "b = 0\n",
    "for bucket in buckets:\n",
    "    b += 1\n",
    "    for each in bucket:\n",
    "        data = data.append(pd.Series([each, b], index=data.columns ), ignore_index=True)"
   ]
  },
  {
   "cell_type": "code",
   "execution_count": null,
   "metadata": {},
   "outputs": [],
   "source": [
    "data"
   ]
  },
  {
   "cell_type": "code",
   "execution_count": 9,
   "metadata": {},
   "outputs": [],
   "source": [
    "list1 = []\n",
    "for i in range(len(data)):\n",
    "    list1.append([])"
   ]
  },
  {
   "cell_type": "code",
   "execution_count": 10,
   "metadata": {},
   "outputs": [],
   "source": [
    "data[\"in-nodes\"] = list1"
   ]
  },
  {
   "cell_type": "code",
   "execution_count": null,
   "metadata": {},
   "outputs": [],
   "source": [
    "edge"
   ]
  },
  {
   "cell_type": "code",
   "execution_count": 11,
   "metadata": {},
   "outputs": [],
   "source": [
    "for e in edge:\n",
    "    indx = data.loc[data['node name'] == e[0]].index[0]\n",
    "    if e[1] not in data['in-nodes'][indx]:\n",
    "        data['in-nodes'][indx].append(e[1])"
   ]
  },
  {
   "cell_type": "code",
   "execution_count": 14,
   "metadata": {},
   "outputs": [],
   "source": [
    "data.to_csv('snaw.csv')"
   ]
  },
  {
   "cell_type": "code",
   "execution_count": 12,
   "metadata": {},
   "outputs": [],
   "source": [
    "kin = []\n",
    "for i in range(len(data)):\n",
    "    kin.append(len(data['in-nodes'][i]))"
   ]
  },
  {
   "cell_type": "code",
   "execution_count": 13,
   "metadata": {
    "scrolled": false
   },
   "outputs": [],
   "source": [
    "data[\"Kin\"] = kin"
   ]
  },
  {
   "cell_type": "code",
   "execution_count": 15,
   "metadata": {},
   "outputs": [],
   "source": [
    "import random\n",
    "def ic(G,s):\n",
    "    #print(s)\n",
    "    jst_inf = list(s)\n",
    "    infected = list(s)\n",
    "    while(1):\n",
    "        #print(jst_inf, infected)\n",
    "        if len(jst_inf) == 0:\n",
    "            return infected\n",
    "        tmp = []\n",
    "        for each in jst_inf:\n",
    "            for each1 in G.neighbors(each):\n",
    "                r = random.uniform(0,1)\n",
    "                if r < 0.5 and each1 not in infected and each1 not in tmp:\n",
    "                    tmp.append(each1)\n",
    "        for each in tmp:\n",
    "            infected.append(each)\n",
    "        jst_inf = list(tmp)"
   ]
  },
  {
   "cell_type": "code",
   "execution_count": null,
   "metadata": {},
   "outputs": [],
   "source": [
    "m = []\n",
    "for i in range(len(data)):\n",
    "    node = data['node name'][i]\n",
    "    seed = [node]\n",
    "    list1 = ic(G,seed)\n",
    "    m.append(len(list1))"
   ]
  },
  {
   "cell_type": "code",
   "execution_count": null,
   "metadata": {},
   "outputs": [],
   "source": [
    "data[\"m\"] = m"
   ]
  },
  {
   "cell_type": "code",
   "execution_count": null,
   "metadata": {},
   "outputs": [],
   "source": [
    "data.to_csv('snawe.csv')"
   ]
  },
  {
   "cell_type": "code",
   "execution_count": 4,
   "metadata": {},
   "outputs": [
    {
     "ename": "NameError",
     "evalue": "name 'f' is not defined",
     "output_type": "error",
     "traceback": [
      "\u001b[1;31m-----------------------------------------------\u001b[0m",
      "\u001b[1;31mNameError\u001b[0m     Traceback (most recent call last)",
      "\u001b[1;32m<ipython-input-4-a9fcd54b25e7>\u001b[0m in \u001b[0;36m<module>\u001b[1;34m\u001b[0m\n\u001b[1;32m----> 1\u001b[1;33m \u001b[0mf\u001b[0m\u001b[1;33m\u001b[0m\u001b[1;33m\u001b[0m\u001b[0m\n\u001b[0m",
      "\u001b[1;31mNameError\u001b[0m: name 'f' is not defined"
     ]
    }
   ],
   "source": [
    "f"
   ]
  },
  {
   "cell_type": "code",
   "execution_count": null,
   "metadata": {},
   "outputs": [],
   "source": []
  }
 ],
 "metadata": {
  "kernelspec": {
   "display_name": "Python 3",
   "language": "python",
   "name": "python3"
  },
  "language_info": {
   "codemirror_mode": {
    "name": "ipython",
    "version": 3
   },
   "file_extension": ".py",
   "mimetype": "text/x-python",
   "name": "python",
   "nbconvert_exporter": "python",
   "pygments_lexer": "ipython3",
   "version": "3.7.3"
  }
 },
 "nbformat": 4,
 "nbformat_minor": 4
}
